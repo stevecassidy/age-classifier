{
 "cells": [
  {
   "cell_type": "markdown",
   "metadata": {
    "slideshow": {
     "slide_type": "slide"
    }
   },
   "source": [
    "## Baseline Models for Age and Gender Prediction from MEG"
   ]
  },
  {
   "cell_type": "code",
   "execution_count": 1,
   "metadata": {
    "slideshow": {
     "slide_type": "skip"
    }
   },
   "outputs": [],
   "source": [
    "%matplotlib inline"
   ]
  },
  {
   "cell_type": "code",
   "execution_count": 21,
   "metadata": {
    "slideshow": {
     "slide_type": "slide"
    }
   },
   "outputs": [],
   "source": [
    "import sys\n",
    "sys.path += ['../']\n",
    "import matplotlib.pyplot as plt\n",
    "from src.data.preprocess import run_pca\n",
    "from src.data.make_dataset import load_dataset, load_subjects\n",
    "from sklearn import svm\n",
    "from sklearn.metrics import confusion_matrix, accuracy_score\n",
    "from sklearn.ensemble import RandomForestClassifier\n",
    "import hcp\n",
    "import mne\n",
    "import numpy as np\n",
    "import pandas as pd"
   ]
  },
  {
   "cell_type": "markdown",
   "metadata": {
    "slideshow": {
     "slide_type": "slide"
    }
   },
   "source": [
    "## Introduction\n",
    "\n",
    "This notebook provides an example of building a predictive model for the age and gender \n",
    "classification tasks from preprocessed MEG data. To run the examples you will need the\n",
    "preprocessed data downloaded from [link]() copied to the data folder in this repository. "
   ]
  },
  {
   "cell_type": "markdown",
   "metadata": {
    "slideshow": {
     "slide_type": "slide"
    }
   },
   "source": [
    "## MEG Data\n",
    "\n",
    "MEG data consists of around 250 channels of continuous signal data representing the output of the \n",
    "sensors placed around the head in the MEG.  Each channel picks up electrical activity at a position on\n",
    "the surface of the head.  Using advanced signal processing techniques we can localise some of this\n",
    "activity and identify where in the brain responses to certain stimuli or actios occur.  \n",
    "\n",
    "In these experiments we will be using __resting state recordings__ so no movement or events are\n",
    "involved.  The subject is just sitting and thinking and we expect a relatively __steady state signal__."
   ]
  },
  {
   "cell_type": "markdown",
   "metadata": {
    "slideshow": {
     "slide_type": "slide"
    }
   },
   "source": [
    "## Segmentation\n",
    "\n",
    "Our main dataset consists of around 95 subjects in three age categories (22-25, 26-30, 31-35).  The distribution\n",
    "is unbalanced so we have selected 16 subjects from each category for the training data.  Each subject has three\n",
    "recordings in the resting state and each is around 6 minutes long.  \n",
    "\n",
    "Making the assumption that these recordings represent a steady state, we have cut them up into 20s segments\n",
    "to create the target data for these experiments. Hence, our goal here is to build a model that can predict\n",
    "age or gender from a 20s segment of resting state MEG data.  "
   ]
  },
  {
   "cell_type": "markdown",
   "metadata": {
    "slideshow": {
     "slide_type": "slide"
    }
   },
   "source": [
    "## Preprocessing\n",
    "\n",
    "There are a number of ways that we could generate features from these data segments. Recall that each\n",
    "segment consists of around 250 individual signals.  Assuming that these are steady state we have \n",
    "used an __averaged FFT spectrum__ for each channel.   This gives us a 24 point FFT for each channel\n",
    "in the data.   We have pre-computed these features for each segment and they are available in the downloaded preprocessed data directories.  "
   ]
  },
  {
   "cell_type": "markdown",
   "metadata": {
    "slideshow": {
     "slide_type": "slide"
    }
   },
   "source": [
    "## Analysis\n",
    "\n",
    "The first step is to load the dataset.  The file [hcp-train.csv](../data/hcp-train.csv) contains one\n",
    "row per subject along with their gender and age category labels.  Note, if you want to look at all\n",
    "of the subjects, [hcp-subjects.csv](../data/hcp-subjects.csv) contains all of their details.  \n",
    "\n",
    "We will then create feature vectors from the raw array data.  We do this here by selecting the first\n",
    "ten channels and concatenating them to give a 240 element feature vector for each recording."
   ]
  },
  {
   "cell_type": "code",
   "execution_count": 3,
   "metadata": {
    "slideshow": {
     "slide_type": "slide"
    }
   },
   "outputs": [],
   "source": [
    "def transform_data(data, channels):\n",
    "    \"\"\"Select a number of channels from each data record and concatenate them into a single vector\"\"\"\n",
    "    \n",
    "    return [np.ravel(d[0][:channels]) for d in data['data']]    "
   ]
  },
  {
   "cell_type": "code",
   "execution_count": 4,
   "metadata": {
    "slideshow": {
     "slide_type": "fragment"
    }
   },
   "outputs": [],
   "source": [
    "dataset = load_dataset('../data/processed/hcp', '../data/hcp-train.csv')\n",
    "channels = 10\n",
    "dd = transform_data(dataset, channels)"
   ]
  },
  {
   "cell_type": "markdown",
   "metadata": {
    "slideshow": {
     "slide_type": "slide"
    }
   },
   "source": [
    "## Visualisation\n",
    "\n",
    "We can define a simple visualisation of the data to get an idea of what we are working with. "
   ]
  },
  {
   "cell_type": "code",
   "execution_count": 5,
   "metadata": {
    "slideshow": {
     "slide_type": "fragment"
    }
   },
   "outputs": [],
   "source": [
    "def show(n):\n",
    "    data = dd[n]\n",
    "    data = data.reshape(channels,24)\n",
    "    plt.pcolor(data)\n",
    "    print(dataset['age'][n], dataset['gender'][n])"
   ]
  },
  {
   "cell_type": "code",
   "execution_count": 6,
   "metadata": {
    "slideshow": {
     "slide_type": "slide"
    }
   },
   "outputs": [
    {
     "name": "stdout",
     "output_type": "stream",
     "text": [
      "22-25 F\n"
     ]
    },
    {
     "data": {
      "image/png": "[encoded data removed]",
      "text/plain": [
       "<Figure size 432x288 with 1 Axes>"
      ]
     },
     "metadata": {
      "needs_background": "light"
     },
     "output_type": "display_data"
    }
   ],
   "source": [
    "show(0)"
   ]
  },
  {
   "cell_type": "code",
   "execution_count": 7,
   "metadata": {
    "slideshow": {
     "slide_type": "slide"
    }
   },
   "outputs": [
    {
     "name": "stdout",
     "output_type": "stream",
     "text": [
      "26-30 F\n"
     ]
    },
    {
     "data": {
      "image/png": "[encoded data removed]",
      "text/plain": [
       "<Figure size 432x288 with 1 Axes>"
      ]
     },
     "metadata": {
      "needs_background": "light"
     },
     "output_type": "display_data"
    }
   ],
   "source": [
    "show(1000)"
   ]
  },
  {
   "cell_type": "code",
   "execution_count": 8,
   "metadata": {
    "slideshow": {
     "slide_type": "slide"
    }
   },
   "outputs": [
    {
     "name": "stdout",
     "output_type": "stream",
     "text": [
      "31-35 F\n"
     ]
    },
    {
     "data": {
      "image/png": "[encoded data removed]",
      "text/plain": [
       "<Figure size 432x288 with 1 Axes>"
      ]
     },
     "metadata": {
      "needs_background": "light"
     },
     "output_type": "display_data"
    }
   ],
   "source": [
    "show(2001)"
   ]
  },
  {
   "cell_type": "markdown",
   "metadata": {
    "slideshow": {
     "slide_type": "slide"
    }
   },
   "source": [
    "## Baseline Model\n",
    "\n",
    "For a baseline we define a simple support vector machine model and train on this dataset."
   ]
  },
  {
   "cell_type": "code",
   "execution_count": 40,
   "metadata": {
    "slideshow": {
     "slide_type": "fragment"
    }
   },
   "outputs": [
    {
     "data": {
      "text/plain": [
       "SVC(C=10.0, cache_size=200, class_weight=None, coef0=0.0,\n",
       "    decision_function_shape='ovr', degree=3, gamma=0.01, kernel='rbf',\n",
       "    max_iter=-1, probability=False, random_state=None, shrinking=True,\n",
       "    tol=0.001, verbose=False)"
      ]
     },
     "execution_count": 40,
     "metadata": {},
     "output_type": "execute_result"
    }
   ],
   "source": [
    "age_model = svm.SVC(gamma=0.01, C=10.)\n",
    "age_model.fit(dd, dataset['age'])"
   ]
  },
  {
   "cell_type": "code",
   "execution_count": 41,
   "metadata": {
    "slideshow": {
     "slide_type": "slide"
    }
   },
   "outputs": [],
   "source": [
    "def evaluate(model, key, data, ref):\n",
    "    predicted = model.predict(data)\n",
    "    print(\"{:.2f}% correct\".format(100*accuracy_score(ref[key], predicted)))\n",
    "    print(confusion_matrix(ref[key], predicted))"
   ]
  },
  {
   "cell_type": "code",
   "execution_count": 42,
   "metadata": {
    "slideshow": {
     "slide_type": "fragment"
    }
   },
   "outputs": [
    {
     "name": "stdout",
     "output_type": "stream",
     "text": [
      "99.96% correct\n",
      "[[815   0   0]\n",
      " [  0 822   0]\n",
      " [  0   1 867]]\n"
     ]
    }
   ],
   "source": [
    "evaluate(age_model, 'age', dd, dataset)"
   ]
  },
  {
   "cell_type": "markdown",
   "metadata": {
    "slideshow": {
     "slide_type": "slide"
    }
   },
   "source": [
    "## Predicting Gender\n",
    "\n",
    "We can repeat the process to predict gender using a similar model. "
   ]
  },
  {
   "cell_type": "code",
   "execution_count": 43,
   "metadata": {
    "slideshow": {
     "slide_type": "fragment"
    }
   },
   "outputs": [
    {
     "data": {
      "text/plain": [
       "SVC(C=10.0, cache_size=200, class_weight=None, coef0=0.0,\n",
       "    decision_function_shape='ovr', degree=3, gamma=0.01, kernel='rbf',\n",
       "    max_iter=-1, probability=False, random_state=None, shrinking=True,\n",
       "    tol=0.001, verbose=False)"
      ]
     },
     "execution_count": 43,
     "metadata": {},
     "output_type": "execute_result"
    }
   ],
   "source": [
    "gender_model = svm.SVC(gamma=0.01, C=10.)\n",
    "gender_model.fit(dd, dataset['gender'])\n"
   ]
  },
  {
   "cell_type": "code",
   "execution_count": 44,
   "metadata": {
    "slideshow": {
     "slide_type": "fragment"
    }
   },
   "outputs": [
    {
     "name": "stdout",
     "output_type": "stream",
     "text": [
      "100.00% correct\n",
      "[[ 931    0]\n",
      " [   0 1574]]\n"
     ]
    }
   ],
   "source": [
    "evaluate(gender_model, 'gender', dd, dataset)"
   ]
  },
  {
   "cell_type": "markdown",
   "metadata": {
    "slideshow": {
     "slide_type": "slide"
    }
   },
   "source": [
    "## Evaluation\n",
    "\n",
    "For evaluation we have withheld 11 subjects. Their identifiers are in [hcp-eval-dist.csv](../data/hcp-eval-dist.csv).  To evaluate our model, we load these subjects in the same way as the original data.  To evaluate the model we will generate the predicted age category labels for each entry and write them to a CSV file. "
   ]
  },
  {
   "cell_type": "code",
   "execution_count": 45,
   "metadata": {
    "slideshow": {
     "slide_type": "fragment"
    }
   },
   "outputs": [],
   "source": [
    "testdataset = load_dataset('../data/processed/hcp', '../data/hcp-eval-dist.csv')\n",
    "channels = 10\n",
    "td = transform_data(testdataset, channels)\n",
    "\n",
    "age = age_model.predict(td)\n",
    "gender = gender_model.predict(td)"
   ]
  },
  {
   "cell_type": "code",
   "execution_count": 46,
   "metadata": {
    "slideshow": {
     "slide_type": "slide"
    }
   },
   "outputs": [
    {
     "data": {
      "text/html": [
       "<div>\n",
       "<style scoped>\n",
       "    .dataframe tbody tr th:only-of-type {\n",
       "        vertical-align: middle;\n",
       "    }\n",
       "\n",
       "    .dataframe tbody tr th {\n",
       "        vertical-align: top;\n",
       "    }\n",
       "\n",
       "    .dataframe thead th {\n",
       "        text-align: right;\n",
       "    }\n",
       "</style>\n",
       "<table border=\"1\" class=\"dataframe\">\n",
       "  <thead>\n",
       "    <tr style=\"text-align: right;\">\n",
       "      <th></th>\n",
       "      <th>id</th>\n",
       "      <th>age</th>\n",
       "      <th>gender</th>\n",
       "    </tr>\n",
       "  </thead>\n",
       "  <tbody>\n",
       "    <tr>\n",
       "      <th>0</th>\n",
       "      <td>391631-15-1</td>\n",
       "      <td>31-35</td>\n",
       "      <td>F</td>\n",
       "    </tr>\n",
       "    <tr>\n",
       "      <th>1</th>\n",
       "      <td>391631-15-0</td>\n",
       "      <td>31-35</td>\n",
       "      <td>F</td>\n",
       "    </tr>\n",
       "    <tr>\n",
       "      <th>2</th>\n",
       "      <td>391631-17-2</td>\n",
       "      <td>26-30</td>\n",
       "      <td>F</td>\n",
       "    </tr>\n",
       "    <tr>\n",
       "      <th>3</th>\n",
       "      <td>391631-17-0</td>\n",
       "      <td>31-35</td>\n",
       "      <td>F</td>\n",
       "    </tr>\n",
       "    <tr>\n",
       "      <th>4</th>\n",
       "      <td>391631-15-2</td>\n",
       "      <td>31-35</td>\n",
       "      <td>F</td>\n",
       "    </tr>\n",
       "  </tbody>\n",
       "</table>\n",
       "</div>"
      ],
      "text/plain": [
       "            id    age gender\n",
       "0  391631-15-1  31-35      F\n",
       "1  391631-15-0  31-35      F\n",
       "2  391631-17-2  26-30      F\n",
       "3  391631-17-0  31-35      F\n",
       "4  391631-15-2  31-35      F"
      ]
     },
     "execution_count": 46,
     "metadata": {},
     "output_type": "execute_result"
    }
   ],
   "source": [
    "predicted_df = pd.DataFrame({'id': testdataset['id'], 'age': age, 'gender': gender})\n",
    "predicted_df.head()"
   ]
  },
  {
   "cell_type": "markdown",
   "metadata": {
    "slideshow": {
     "slide_type": "slide"
    }
   },
   "source": [
    "## Generating your own Features\n",
    "\n",
    "We've written code to process the MEG data using the [MNE](https://mne.tools/) package.  You can \n",
    "use this as the basis of your own preprocessinng if you want to use different features. "
   ]
  },
  {
   "cell_type": "code",
   "execution_count": null,
   "metadata": {
    "slideshow": {
     "slide_type": "slide"
    }
   },
   "outputs": [],
   "source": [
    "def read_hcp(subject: str, data_folder: str, run_index: int) -> mne.io.Raw:\n",
    "    \"\"\"\n",
    "    Read a data file from the HCP dataset, return a Raw instance\n",
    "    \"\"\"\n",
    "\n",
    "    raw = hcp.read_raw(subject=subject, data_type='rest', hcp_path=data_folder, run_index=run_index)\n",
    "\n",
    "    return raw"
   ]
  },
  {
   "cell_type": "code",
   "execution_count": 47,
   "metadata": {
    "slideshow": {
     "slide_type": "slide"
    }
   },
   "outputs": [],
   "source": [
    "\n",
    "def spectral_epochs(label: str, raw: mne.io.Raw, epoch_size: int, max_freq: int = 100, n_fft: int = 48) -> np.array: \n",
    "    \"\"\"Read raw data and split into epochs of a given size (s), compute features\n",
    "    over each one\n",
    "    label: subject identifier\n",
    "    epoch_size: duration of epochs in seconds\n",
    "    data_folder: location of source data\n",
    "    max_freq: max frequency for FFT (default 100)\n",
    "    n_fft: FFT size (default 48)\n",
    "\n",
    "    Returns: labels, features\n",
    "    labels: a list of labels with the format <subject>-<run_index>-<N>\n",
    "    features: a list of np.arrays one per epoch containing the features\n",
    "    \"\"\"\n",
    "\n",
    "    features = []\n",
    "    labels = []\n",
    "\n",
    "    events = mne.make_fixed_length_events(raw, id=1, duration=epoch_size)\n",
    "    epochs = mne.Epochs(raw, events, tmin=0., tmax=epoch_size, baseline=None,\n",
    "                        detrend=1, decim=8, preload=True)\n",
    "\n",
    "    for N in range(len(epochs)):\n",
    "        features.append(spectral_features(epochs[N], max_freq=max_freq, n_fft=n_fft))\n",
    "        labels.append(\"{}-{}\".format(label, N))\n",
    "        print('.', end='', flush=True)\n",
    "    print('|', end='', flush=True)        \n",
    "    return labels, features"
   ]
  },
  {
   "cell_type": "code",
   "execution_count": null,
   "metadata": {
    "slideshow": {
     "slide_type": "slide"
    }
   },
   "outputs": [],
   "source": [
    "def spectral_features(raw: mne.io.Raw, max_freq: int = 100, n_fft: int = 48) -> np.array: \n",
    "    \"\"\"Compute flattened spectral features given a cropped raw recording.\n",
    "\n",
    "    Data is low-pass filtered to max_freq (default 100Hz) and downsampled to 2*max_freq before features are\n",
    "    computed. \n",
    "\n",
    "    Computes a n_fft (default 48) point FFT. Takes the log to compute the final features which\n",
    "    are then concatenated into a one dimensional feature vector.\n",
    "\n",
    "    Returns a N x 24 np.array where N is the number of channels\"\"\"\n",
    "\n",
    "    raw.filter(None, max_freq, h_trans_bandwidth=0.5, filter_length='10s', phase='zero-double', fir_design='firwin2')\n",
    "    raw.resample(2*max_freq, npad=\"auto\")\n",
    "\n",
    "    psds, _freqs = mne.time_frequency.psd_welch(raw, fmin=1, n_fft=n_fft)\n",
    "\n",
    "    return np.log(psds)"
   ]
  }
 ],
 "metadata": {
  "celltoolbar": "Slideshow",
  "kernelspec": {
   "display_name": "Python 3",
   "language": "python",
   "name": "python3"
  },
  "language_info": {
   "codemirror_mode": {
    "name": "ipython",
    "version": 3
   },
   "file_extension": ".py",
   "mimetype": "text/x-python",
   "name": "python",
   "nbconvert_exporter": "python",
   "pygments_lexer": "ipython3",
   "version": "3.7.4"
  }
 },
 "nbformat": 4,
 "nbformat_minor": 2
}
